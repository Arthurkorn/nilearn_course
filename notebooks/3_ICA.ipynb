{
 "metadata": {
  "name": "",
  "signature": "sha256:db9771cfcd905e67ccac47c674d130f94ad1fdec0d19a877dc3abcc6f2c5cbbc"
 },
 "nbformat": 3,
 "nbformat_minor": 0,
 "worksheets": [
  {
   "cells": [
    {
     "cell_type": "code",
     "collapsed": false,
     "input": [
      "%matplotlib inline"
     ],
     "language": "python",
     "metadata": {},
     "outputs": []
    },
    {
     "cell_type": "markdown",
     "metadata": {},
     "source": [
      "In this section, we will see how to apply an ICA (independant component analysis) to multi-subject resting-state data.\n",
      "\n",
      "For this, we will use the CanICA model (Varoquaux NeuroImage 2010).\n",
      "\n",
      "It can be found in the nilearn.decomposition module.\n",
      "\n",
      "**Excercise**: Using the documentation of nilearn, run the CanICA model with 20 components on the first 20 subjects of the ADHD data, and display the resulting ICA maps.\n",
      "\n",
      "**Hint**: The relevent example is http://nilearn.github.io/auto_examples/connectivity/plot_canica_resting_state.html"
     ]
    },
    {
     "cell_type": "code",
     "collapsed": false,
     "input": [],
     "language": "python",
     "metadata": {},
     "outputs": []
    },
    {
     "cell_type": "markdown",
     "metadata": {},
     "source": [
      "**Excercise**: Run CanICA on the second half of the 20 subjects of the ADHD data. How similar are the maps?"
     ]
    },
    {
     "cell_type": "code",
     "collapsed": false,
     "input": [],
     "language": "python",
     "metadata": {},
     "outputs": []
    },
    {
     "cell_type": "markdown",
     "metadata": {},
     "source": [
      "**Excercise**: Increase the smoothing, and repeat the experiment above."
     ]
    },
    {
     "cell_type": "code",
     "collapsed": false,
     "input": [],
     "language": "python",
     "metadata": {},
     "outputs": []
    }
   ],
   "metadata": {}
  }
 ]
}