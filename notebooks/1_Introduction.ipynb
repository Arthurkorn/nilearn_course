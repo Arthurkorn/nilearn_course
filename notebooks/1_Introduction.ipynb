{
 "metadata": {
  "name": ""
 },
 "nbformat": 3,
 "nbformat_minor": 0,
 "worksheets": [
  {
   "cells": [
    {
     "cell_type": "code",
     "collapsed": false,
     "input": [
      "# For inline plotting\n",
      "%matplotlib inline"
     ],
     "language": "python",
     "metadata": {},
     "outputs": []
    },
    {
     "cell_type": "heading",
     "level": 1,
     "metadata": {},
     "source": [
      "Data download"
     ]
    },
    {
     "cell_type": "markdown",
     "metadata": {},
     "source": [
      "Because data download may take time, let us start the downloads right now.\n",
      "\n",
      "Nilearn comes with data downloading facilities. We will use them. Note that they store the data in your HOME directory, in the *nilearn_data* folder. Under Unix, if your account has quota limitations, it maybe be useful to make the nilearn_data folder a symbolic link to a disk with a lot of space available, for instance with the following shell commands:\n",
      "\n",
      "    cd ~\n",
      "    mkdir /tmp/nilearn_data\n",
      "    ln -s /tmp/nilearn_data\n",
      "    \n",
      "You can now run the following commands, to download resting-state data and reference atlases:"
     ]
    },
    {
     "cell_type": "code",
     "collapsed": false,
     "input": [
      "from nilearn import datasets\n",
      "\n",
      "# Download reference brain parcellations\n",
      "data = datasets.fetch_yeo_2011_atlas()\n",
      "data = datasets.fetch_msdl_atlas()\n",
      "data = datasets.fetch_smith_2009()\n",
      "\n",
      "# Download resting-state data (several gigabytes of data)\n",
      "data = datasets.fetch_adhd()"
     ],
     "language": "python",
     "metadata": {},
     "outputs": []
    },
    {
     "cell_type": "markdown",
     "metadata": {},
     "source": [
      "Each dataset downloading function returns a data object that contain data, or file names to the data.\n",
      "\n",
      "For instance, let us look at the Yeo 2011 atlas:"
     ]
    },
    {
     "cell_type": "code",
     "collapsed": false,
     "input": [
      "data = datasets.fetch_yeo_2011_atlas()\n",
      "print data.keys()"
     ],
     "language": "python",
     "metadata": {},
     "outputs": []
    },
    {
     "cell_type": "markdown",
     "metadata": {},
     "source": [
      "Dataset downloading functions are detailed in the documentation of nilearn:\n",
      "http://nilearn.github.io/modules/reference.html#module-nilearn.datasets"
     ]
    },
    {
     "cell_type": "heading",
     "level": 1,
     "metadata": {},
     "source": [
      "Visualization"
     ]
    },
    {
     "cell_type": "markdown",
     "metadata": {},
     "source": [
      "nilearn.plotting provides simple functions to visualize images.\n",
      "\n",
      "**Excercise**: Read the corresponding documentation, and visualize the Yeo atlas"
     ]
    },
    {
     "cell_type": "code",
     "collapsed": false,
     "input": [],
     "language": "python",
     "metadata": {},
     "outputs": []
    },
    {
     "cell_type": "code",
     "collapsed": false,
     "input": [
      "# Solution\n",
      "%load visualize_yeo.py"
     ],
     "language": "python",
     "metadata": {},
     "outputs": []
    },
    {
     "cell_type": "markdown",
     "metadata": {},
     "source": [
      "**Excercise**: Visualize the 4th network in the RSN10 networks of the Smith 2009 data.\n",
      "\n",
      "**Hint**: you will have to use nibabel.load to breakdown the 4D image, access the data with get_data, and reconstruct a 3D image with the 4th network only before visualization."
     ]
    },
    {
     "cell_type": "code",
     "collapsed": false,
     "input": [],
     "language": "python",
     "metadata": {},
     "outputs": []
    },
    {
     "cell_type": "code",
     "collapsed": false,
     "input": [
      "# Solution\n",
      "%load visualize_smith_2009.py"
     ],
     "language": "python",
     "metadata": {},
     "outputs": []
    },
    {
     "cell_type": "heading",
     "level": 1,
     "metadata": {},
     "source": [
      "Simple computation on images"
     ]
    },
    {
     "cell_type": "markdown",
     "metadata": {},
     "source": [
      "**Computing mean of images**\n",
      "\n",
      "**Excercise** Compute and display the mean of the functional data for each of the 4 first subjects of the ADHD (1 mean imgs per subject, thus 4 images).\n",
      "\n",
      "**Hint**: Find in the reference documentation of nilearn the function to compute means. Also, fixing the choice of the cut coordinates in the plotting may be useful to compare images."
     ]
    },
    {
     "cell_type": "code",
     "collapsed": false,
     "input": [],
     "language": "python",
     "metadata": {},
     "outputs": []
    },
    {
     "cell_type": "code",
     "collapsed": false,
     "input": [
      "# Solution\n",
      "%load compute_mean_adhd.py"
     ],
     "language": "python",
     "metadata": {},
     "outputs": []
    },
    {
     "cell_type": "markdown",
     "metadata": {},
     "source": [
      "Why can this be useful? Can we use the `add_contour` method of the object returned by the plotting function to make this visualization more useful?"
     ]
    },
    {
     "cell_type": "markdown",
     "metadata": {},
     "source": [
      "**Excercise** For the first subject, plot the mean image with increasing smoothing, from 0mm (unsmoothed data) to 20mm by steps of 5mm.\n",
      "\n",
      "**Hint** Find the function to smooth images in the reference documentation."
     ]
    },
    {
     "cell_type": "code",
     "collapsed": false,
     "input": [],
     "language": "python",
     "metadata": {},
     "outputs": []
    },
    {
     "cell_type": "code",
     "collapsed": false,
     "input": [
      "# Solution\n",
      "%load smooth_adhd.py"
     ],
     "language": "python",
     "metadata": {},
     "outputs": []
    }
   ],
   "metadata": {}
  }
 ]
}