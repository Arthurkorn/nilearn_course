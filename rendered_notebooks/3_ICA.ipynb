{
 "metadata": {
  "name": ""
 },
 "nbformat": 3,
 "nbformat_minor": 0,
 "worksheets": [
  {
   "cells": [
    {
     "cell_type": "code",
     "collapsed": false,
     "input": [
      "%matplotlib inline"
     ],
     "language": "python",
     "metadata": {},
     "outputs": [],
     "prompt_number": 0
    },
    {
     "cell_type": "markdown",
     "metadata": {},
     "source": [
      "In this section, we will see how to apply an ICA (independant component analysis) to multi-subject resting-state data.\n",
      "\n",
      "For this, we will use the CanICA model (Varoquaux NeuroImage 2010).\n",
      "\n",
      "It can be found in the nilearn.decomposition module.\n",
      "\n",
      "**Excercise**: Using the documentation of nilearn, run the CanICA model with 20 components on the first 20 subjects of the ADHD data, and display the resulting ICA maps."
     ]
    },
    {
     "cell_type": "code",
     "collapsed": false,
     "input": [],
     "language": "python",
     "metadata": {},
     "outputs": [],
     "prompt_number": 1
    },
    {
     "cell_type": "markdown",
     "metadata": {},
     "source": [
      "**Excercise**: Run CanICA on the second half of the 20 subjects of the ADHD data. How similar are the maps?"
     ]
    },
    {
     "cell_type": "code",
     "collapsed": false,
     "input": [],
     "language": "python",
     "metadata": {},
     "outputs": [],
     "prompt_number": 2
    },
    {
     "cell_type": "markdown",
     "metadata": {},
     "source": [
      "**Excercise**: Increase the smoothing, and repeat the experiment above."
     ]
    },
    {
     "cell_type": "code",
     "collapsed": false,
     "input": [],
     "language": "python",
     "metadata": {},
     "outputs": [],
     "prompt_number": 3
    }
   ],
   "metadata": {}
  }
 ]
}