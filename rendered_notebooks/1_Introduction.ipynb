{
 "metadata": {
  "name": ""
 },
 "nbformat": 3,
 "nbformat_minor": 0,
 "worksheets": [
  {
   "cells": [
    {
     "cell_type": "code",
     "collapsed": false,
     "input": [
      "# For inline plotting\n",
      "%matplotlib inline"
     ],
     "language": "python",
     "metadata": {},
     "outputs": [],
     "prompt_number": 0
    },
    {
     "cell_type": "heading",
     "level": 1,
     "metadata": {},
     "source": [
      "Data download"
     ]
    },
    {
     "cell_type": "markdown",
     "metadata": {},
     "source": [
      "Because data download may take time, let us start the downloads right now.\n",
      "\n",
      "Nilearn comes with data downloading facilities. We will use them. Note that they store the data in your HOME directory, in the *nilearn_data* folder. Under Unix, if your account has quota limitations, it maybe be useful to make the nilearn_data folder a symbolic link to a disk with a lot of space available, for instance with the following shell commands:\n",
      "\n",
      "    cd ~\n",
      "    mkdir /tmp/nilearn_data\n",
      "    ln -s /tmp/nilearn_data\n",
      "    \n",
      "You can now run the following commands, to download resting-state data and reference atlases:"
     ]
    },
    {
     "cell_type": "code",
     "collapsed": false,
     "input": [
      "from nilearn import datasets\n",
      "\n",
      "# Download reference brain parcellations\n",
      "datasets.fetch_craddock_2011_atlas()\n",
      "datasets.fetch_msdl_atlas()\n",
      "datasets.fetch_smith_2009()\n",
      "datasets.fetch_yeo_2011_atlas()\n",
      "\n",
      "# Download resting-state data (several gigabytes of data)\n",
      "datasets.fetch_abide_pcp(derivatives=['rois_ho'])\n",
      "datasets.fetch_adhd()"
     ],
     "language": "python",
     "metadata": {},
     "outputs": [
      {
       "output_type": "pyout",
       "prompt_number": 3,
       "text": [
        "{'confounds': ['/home/varoquau/nilearn_data/adhd/data/3902469/3902469_regressors.csv',\n",
        "  '/home/varoquau/nilearn_data/adhd/data/7774305/7774305_regressors.csv',\n",
        "  '/home/varoquau/nilearn_data/adhd/data/3699991/3699991_regressors.csv',\n",
        "  '/home/varoquau/nilearn_data/adhd/data/2014113/2014113_regressors.csv',\n",
        "  '/home/varoquau/nilearn_data/adhd/data/4275075/4275075_regressors.csv',\n",
        "  '/home/varoquau/nilearn_data/adhd/data/1019436/1019436_regressors.csv',\n",
        "  '/home/varoquau/nilearn_data/adhd/data/3154996/3154996_regressors.csv',\n",
        "  '/home/varoquau/nilearn_data/adhd/data/3884955/3884955_regressors.csv',\n",
        "  '/home/varoquau/nilearn_data/adhd/data/0027034/0027034_regressors.csv',\n",
        "  '/home/varoquau/nilearn_data/adhd/data/4134561/4134561_regressors.csv',\n",
        "  '/home/varoquau/nilearn_data/adhd/data/0027018/0027018_regressors.csv',\n",
        "  '/home/varoquau/nilearn_data/adhd/data/6115230/6115230_regressors.csv',\n",
        "  '/home/varoquau/nilearn_data/adhd/data/0027037/0027037_regressors.csv',\n",
        "  '/home/varoquau/nilearn_data/adhd/data/8409791/8409791_regressors.csv',\n",
        "  '/home/varoquau/nilearn_data/adhd/data/0027011/0027011_regressors.csv',\n",
        "  '/home/varoquau/nilearn_data/adhd/data/3007585/3007585_regressors.csv',\n",
        "  '/home/varoquau/nilearn_data/adhd/data/8697774/8697774_regressors.csv',\n",
        "  '/home/varoquau/nilearn_data/adhd/data/9750701/9750701_regressors.csv',\n",
        "  '/home/varoquau/nilearn_data/adhd/data/0010064/0010064_regressors.csv',\n",
        "  '/home/varoquau/nilearn_data/adhd/data/0021019/0021019_regressors.csv',\n",
        "  '/home/varoquau/nilearn_data/adhd/data/0010042/0010042_regressors.csv',\n",
        "  '/home/varoquau/nilearn_data/adhd/data/0010128/0010128_regressors.csv',\n",
        "  '/home/varoquau/nilearn_data/adhd/data/2497695/2497695_regressors.csv',\n",
        "  '/home/varoquau/nilearn_data/adhd/data/4164316/4164316_regressors.csv',\n",
        "  '/home/varoquau/nilearn_data/adhd/data/1552181/1552181_regressors.csv',\n",
        "  '/home/varoquau/nilearn_data/adhd/data/4046678/4046678_regressors.csv',\n",
        "  '/home/varoquau/nilearn_data/adhd/data/0023012/0023012_regressors.csv',\n",
        "  '/home/varoquau/nilearn_data/adhd/data/1679142/1679142_regressors.csv',\n",
        "  '/home/varoquau/nilearn_data/adhd/data/1206380/1206380_regressors.csv',\n",
        "  '/home/varoquau/nilearn_data/adhd/data/0023008/0023008_regressors.csv',\n",
        "  '/home/varoquau/nilearn_data/adhd/data/4016887/4016887_regressors.csv',\n",
        "  '/home/varoquau/nilearn_data/adhd/data/1418396/1418396_regressors.csv',\n",
        "  '/home/varoquau/nilearn_data/adhd/data/2950754/2950754_regressors.csv',\n",
        "  '/home/varoquau/nilearn_data/adhd/data/3994098/3994098_regressors.csv',\n",
        "  '/home/varoquau/nilearn_data/adhd/data/3520880/3520880_regressors.csv',\n",
        "  '/home/varoquau/nilearn_data/adhd/data/1517058/1517058_regressors.csv',\n",
        "  '/home/varoquau/nilearn_data/adhd/data/9744150/9744150_regressors.csv',\n",
        "  '/home/varoquau/nilearn_data/adhd/data/1562298/1562298_regressors.csv',\n",
        "  '/home/varoquau/nilearn_data/adhd/data/3205761/3205761_regressors.csv',\n",
        "  '/home/varoquau/nilearn_data/adhd/data/3624598/3624598_regressors.csv'],\n",
        " 'func': ['/home/varoquau/nilearn_data/adhd/data/3902469/3902469_rest_tshift_RPI_voreg_mni.nii.gz',\n",
        "  '/home/varoquau/nilearn_data/adhd/data/7774305/7774305_rest_tshift_RPI_voreg_mni.nii.gz',\n",
        "  '/home/varoquau/nilearn_data/adhd/data/3699991/3699991_rest_tshift_RPI_voreg_mni.nii.gz',\n",
        "  '/home/varoquau/nilearn_data/adhd/data/2014113/2014113_rest_tshift_RPI_voreg_mni.nii.gz',\n",
        "  '/home/varoquau/nilearn_data/adhd/data/4275075/4275075_rest_tshift_RPI_voreg_mni.nii.gz',\n",
        "  '/home/varoquau/nilearn_data/adhd/data/1019436/1019436_rest_tshift_RPI_voreg_mni.nii.gz',\n",
        "  '/home/varoquau/nilearn_data/adhd/data/3154996/3154996_rest_tshift_RPI_voreg_mni.nii.gz',\n",
        "  '/home/varoquau/nilearn_data/adhd/data/3884955/3884955_rest_tshift_RPI_voreg_mni.nii.gz',\n",
        "  '/home/varoquau/nilearn_data/adhd/data/0027034/0027034_rest_tshift_RPI_voreg_mni.nii.gz',\n",
        "  '/home/varoquau/nilearn_data/adhd/data/4134561/4134561_rest_tshift_RPI_voreg_mni.nii.gz',\n",
        "  '/home/varoquau/nilearn_data/adhd/data/0027018/0027018_rest_tshift_RPI_voreg_mni.nii.gz',\n",
        "  '/home/varoquau/nilearn_data/adhd/data/6115230/6115230_rest_tshift_RPI_voreg_mni.nii.gz',\n",
        "  '/home/varoquau/nilearn_data/adhd/data/0027037/0027037_rest_tshift_RPI_voreg_mni.nii.gz',\n",
        "  '/home/varoquau/nilearn_data/adhd/data/8409791/8409791_rest_tshift_RPI_voreg_mni.nii.gz',\n",
        "  '/home/varoquau/nilearn_data/adhd/data/0027011/0027011_rest_tshift_RPI_voreg_mni.nii.gz',\n",
        "  '/home/varoquau/nilearn_data/adhd/data/3007585/3007585_rest_tshift_RPI_voreg_mni.nii.gz',\n",
        "  '/home/varoquau/nilearn_data/adhd/data/8697774/8697774_rest_tshift_RPI_voreg_mni.nii.gz',\n",
        "  '/home/varoquau/nilearn_data/adhd/data/9750701/9750701_rest_tshift_RPI_voreg_mni.nii.gz',\n",
        "  '/home/varoquau/nilearn_data/adhd/data/0010064/0010064_rest_tshift_RPI_voreg_mni.nii.gz',\n",
        "  '/home/varoquau/nilearn_data/adhd/data/0021019/0021019_rest_tshift_RPI_voreg_mni.nii.gz',\n",
        "  '/home/varoquau/nilearn_data/adhd/data/0010042/0010042_rest_tshift_RPI_voreg_mni.nii.gz',\n",
        "  '/home/varoquau/nilearn_data/adhd/data/0010128/0010128_rest_tshift_RPI_voreg_mni.nii.gz',\n",
        "  '/home/varoquau/nilearn_data/adhd/data/2497695/2497695_rest_tshift_RPI_voreg_mni.nii.gz',\n",
        "  '/home/varoquau/nilearn_data/adhd/data/4164316/4164316_rest_tshift_RPI_voreg_mni.nii.gz',\n",
        "  '/home/varoquau/nilearn_data/adhd/data/1552181/1552181_rest_tshift_RPI_voreg_mni.nii.gz',\n",
        "  '/home/varoquau/nilearn_data/adhd/data/4046678/4046678_rest_tshift_RPI_voreg_mni.nii.gz',\n",
        "  '/home/varoquau/nilearn_data/adhd/data/0023012/0023012_rest_tshift_RPI_voreg_mni.nii.gz',\n",
        "  '/home/varoquau/nilearn_data/adhd/data/1679142/1679142_rest_tshift_RPI_voreg_mni.nii.gz',\n",
        "  '/home/varoquau/nilearn_data/adhd/data/1206380/1206380_rest_tshift_RPI_voreg_mni.nii.gz',\n",
        "  '/home/varoquau/nilearn_data/adhd/data/0023008/0023008_rest_tshift_RPI_voreg_mni.nii.gz',\n",
        "  '/home/varoquau/nilearn_data/adhd/data/4016887/4016887_rest_tshift_RPI_voreg_mni.nii.gz',\n",
        "  '/home/varoquau/nilearn_data/adhd/data/1418396/1418396_rest_tshift_RPI_voreg_mni.nii.gz',\n",
        "  '/home/varoquau/nilearn_data/adhd/data/2950754/2950754_rest_tshift_RPI_voreg_mni.nii.gz',\n",
        "  '/home/varoquau/nilearn_data/adhd/data/3994098/3994098_rest_tshift_RPI_voreg_mni.nii.gz',\n",
        "  '/home/varoquau/nilearn_data/adhd/data/3520880/3520880_rest_tshift_RPI_voreg_mni.nii.gz',\n",
        "  '/home/varoquau/nilearn_data/adhd/data/1517058/1517058_rest_tshift_RPI_voreg_mni.nii.gz',\n",
        "  '/home/varoquau/nilearn_data/adhd/data/9744150/9744150_rest_tshift_RPI_voreg_mni.nii.gz',\n",
        "  '/home/varoquau/nilearn_data/adhd/data/1562298/1562298_rest_tshift_RPI_voreg_mni.nii.gz',\n",
        "  '/home/varoquau/nilearn_data/adhd/data/3205761/3205761_rest_tshift_RPI_voreg_mni.nii.gz',\n",
        "  '/home/varoquau/nilearn_data/adhd/data/3624598/3624598_rest_tshift_RPI_voreg_mni.nii.gz'],\n",
        " 'phenotypic': array([ ('\"2\"', 3902469, '\"rest_1\"', 0.058, 0, 0.2409, 0.0931, 0.0, 17.4188, 1.204, '\"KKI\"', 'NA', '\"data_set\"', 10.6356164384, '\"M\"', '\"R\"', 'NA', 'NA', 'NA', 'NA', 'NA', 1, 0, 'NA', 'NA', 'NA', '\"\"', '\"\"', '\"\"', 'NA', 'NA', 'NA', 'NA', 'NA', 'NA', 'NA', 'NA', 'NA', 'NA', 'NA', 'NA', 'NA', 'NA', 'NA', '\"pass\"', '\"closed\"', '\"\"', '\"\"', '\"\"', '\"\"', 'NA', 'NA', 'NA', 'NA', 'NA', 'NA', '\"pass\"', 'NA', 'NA', 'NA', 'NA', 'NA', 'NA', '\"\"', '\"\"'),\n",
        "        ('\"4\"', 7774305, '\"rest_1\"', 0.0679, 0, 0.2606, 0.1054, 0.0, 16.7169, 1.5137, '\"KKI\"', 'NA', '\"data_set\"', 11.22, '\"F\"', '\"R\"', 'NA', 'NA', 'NA', 'NA', 'NA', 1, 0, 'NA', 'NA', 'NA', '\"\"', '\"\"', '\"\"', 'NA', 'NA', 'NA', 'NA', 'NA', 'NA', 'NA', 'NA', 'NA', 'NA', 'NA', 'NA', 'NA', 'NA', 'NA', '\"pass\"', '\"closed\"', '\"questionable\"', '\"open\"', '\"\"', '\"\"', 'NA', 'NA', 'NA', 'NA', 'NA', 'NA', '\"pass\"', 'NA', 'NA', 'NA', 'NA', 'NA', 'NA', '\"yes\"', '\"defaced part of front skull/brain\"'),\n",
        "        ('\"6\"', 3699991, '\"rest_1\"', 0.1113, 15, 0.3337, 0.2524, 9.8039, 19.8704, 2.6121, '\"KKI\"', '4154182', '\"data_set\"', 12.7726027397, '\"M\"', '\"R\"', 'NA', 'NA', 'NA', 'NA', 'NA', 1, 0, 'NA', 'NA', 'NA', '\"\"', '\"\"', '\"\"', 'NA', 'NA', 'NA', 'NA', 'NA', 'NA', 'NA', 'NA', 'NA', 'NA', 'NA', 'NA', 'NA', 'NA', 'NA', '\"pass\"', '\"closed\"', '\"\"', '\"\"', '\"\"', '\"\"', 'NA', 'NA', 'NA', 'NA', 'NA', 'NA', '\"pass\"', 'NA', 'NA', 'NA', 'NA', 'NA', 'NA', '\"\"', '\"\"'),\n",
        "        ('\"1\"', 2014113, '\"rest_1\"', 0.0576, 2, 0.24, 0.0944, 1.6, 16.1677, 1.3868, '\"KKI\"', 'NA', '\"data_set\"', 10.3452054795, '\"M\"', '\"R\"', 'NA', 'NA', 'NA', 'NA', 'NA', 0, 1, 'NA', 'NA', 'NA', '\"\"', '\"\"', '\"\"', 'NA', 'NA', 'NA', 'NA', 'NA', 'NA', 'NA', 'NA', 'NA', 'NA', 'NA', 'NA', 'NA', 'NA', 'NA', '\"pass\"', '\"\"', '\"\"', '\"\"', '\"\"', '\"\"', 'NA', 'NA', 'NA', 'NA', 'NA', 'NA', '\"pass\"', 'NA', 'NA', 'NA', 'NA', 'NA', 'NA', '\"yes\"', '\"\"'),\n",
        "        ('\"3\"', 4275075, '\"rest_1\"', 0.0789, 0, 0.2808, 0.152, 0.0, 17.7796, 1.8105, '\"KKI\"', 'NA', '\"data_set\"', 10.5, '\"F\"', '\"R\"', 'NA', 'NA', 'NA', 'NA', 'NA', 0, 1, 'NA', 'NA', 'NA', '\"\"', '\"\"', '\"\"', 'NA', 'NA', 'NA', 'NA', 'NA', 'NA', 'NA', 'NA', 'NA', 'NA', 'NA', 'NA', 'NA', 'NA', 'NA', '\"pass\"', '\"\"', '\"\"', '\"\"', '\"\"', '\"\"', 'NA', 'NA', 'NA', 'NA', 'NA', 'NA', '\"pass\"', 'NA', 'NA', 'NA', 'NA', 'NA', 'NA', '\"\"', '\"\"'),\n",
        "        ('\"5\"', 1019436, '\"rest_1\"', 0.0904, 0, 0.3006, 0.1927, 0.0, 19.6124, 1.6769, '\"KKI\"', 'NA', '\"data_set\"', 12.98, '\"M\"', '\"R\"', 'NA', 'NA', 'NA', 'NA', 'NA', 0, 1, 'NA', 'NA', 'NA', '\"\"', '\"\"', '\"\"', 'NA', 'NA', 'NA', 'NA', 'NA', 'NA', 'NA', 'NA', 'NA', 'NA', 'NA', 'NA', 'NA', 'NA', 'NA', '\"pass\"', '\"\"', '\"\"', '\"\"', '\"\"', '\"\"', 'NA', 'NA', 'NA', 'NA', 'NA', 'NA', '\"pass\"', 'NA', 'NA', 'NA', 'NA', 'NA', 'NA', '\"yes\"', '\"\"'),\n",
        "        ('\"7\"', 3154996, '\"rest_1\"', 0.0881, 0, 0.2968, 0.1619, 0.0, 18.612, 1.8118, '\"KKI\"', 'NA', '\"data_set\"', 11.65, '\"M\"', '\"R\"', 'NA', 'NA', 'NA', 'NA', 'NA', 0, 1, 'NA', 'NA', 'NA', '\"\"', '\"\"', '\"\"', 'NA', 'NA', 'NA', 'NA', 'NA', 'NA', 'NA', 'NA', 'NA', 'NA', 'NA', 'NA', 'NA', 'NA', 'NA', '\"pass\"', '\"\"', '\"\"', '\"\"', '\"\"', '\"\"', 'NA', 'NA', 'NA', 'NA', 'NA', 'NA', '\"\"', '1', 'NA', 'NA', 'NA', 'NA', 'NA', '\"\"', '\"\"'),\n",
        "        ('\"8\"', 3884955, '\"rest_1\"', 0.0988, 8, 0.3144, 0.1881, 6.4, 17.3609, 1.9543, '\"KKI\"', 'NA', '\"data_set\"', 11.84, '\"M\"', '\"R\"', 'NA', 'NA', 'NA', 'NA', 'NA', 1, 0, 'NA', 'NA', 'NA', '\"\"', '\"\"', '\"\"', 'NA', 'NA', 'NA', 'NA', 'NA', 'NA', 'NA', 'NA', 'NA', 'NA', 'NA', 'NA', 'NA', 'NA', 'NA', '\"pass\"', '\"open\"', '\"\"', '\"\"', '\"\"', '\"\"', 'NA', 'NA', 'NA', 'NA', 'NA', 'NA', '\"pass\"', 'NA', 'NA', 'NA', 'NA', 'NA', 'NA', '\"\"', '\"\"'),\n",
        "        ('\"9\"', 27034, '\"rest_1\"', 0.0484, 1, 0.2201, 0.086, 0.3831, 21.5895, 0.9262, '\"NeuroImage\"', 'NA', '\"test_set\"', 13.35, '\"M\"', '\"R\"', '97', 'NA', 'NA', 'NA', '5', 0, 1, 'NA', 'NA', 'NA', '\"\"', '\"\"', '\"\"', 'NA', 'NA', 'NA', 'NA', 'NA', 'NA', 'NA', 'NA', 'NA', 'NA', 'NA', 'NA', 'NA', 'NA', 'NA', '\"pass\"', '\"\"', '\"\"', '\"\"', '\"\"', '\"\"', 'NA', 'NA', 'NA', 'NA', 'NA', 'NA', '\"pass\"', 'NA', 'NA', 'NA', 'NA', 'NA', 'NA', '\"\"', '\"\"'),\n",
        "        ('\"10\"', 4134561, '\"rest_1\"', 0.0439, 4, 0.2095, 0.0849, 1.5267, 25.0028, 0.9207, '\"NeuroImage\"', 'NA', '\"data_set\"', 15.55, '\"M\"', '\"\"', 'NA', 'NA', 'NA', 'NA', 'NA', 1, 0, 'NA', 'NA', 'NA', '\"\"', '\"\"', '\"\"', 'NA', 'NA', 'NA', 'NA', 'NA', 'NA', 'NA', 'NA', 'NA', 'NA', 'NA', 'NA', 'NA', 'NA', 'NA', '\"pass\"', '\"open\"', '\"\"', '\"\"', '\"\"', '\"\"', 'NA', 'NA', 'NA', 'NA', 'NA', 'NA', '\"pass\"', 'NA', 'NA', 'NA', 'NA', 'NA', 'NA', '\"yes\"', '\"\"'),\n",
        "        ('\"11\"', 27018, '\"rest_1\"', 0.0622, 5, 0.2494, 0.1221, 1.9157, 19.7246, 1.0707, '\"NeuroImage\"', 'NA', '\"test_set\"', 19.08, '\"M\"', '\"\"', '113', 'NA', 'NA', 'NA', '5', 0, 1, 'NA', 'NA', 'NA', '\"\"', '\"\"', '\"\"', 'NA', 'NA', 'NA', 'NA', 'NA', 'NA', 'NA', 'NA', 'NA', 'NA', 'NA', 'NA', 'NA', 'NA', 'NA', '\"pass\"', '\"closed\"', '\"\"', '\"\"', '\"\"', '\"\"', 'NA', 'NA', 'NA', 'NA', 'NA', 'NA', '\"pass\"', 'NA', 'NA', 'NA', 'NA', 'NA', 'NA', '\"\"', '\"\"'),\n",
        "        ('\"12\"', 6115230, '\"rest_1\"', 0.0539, 2, 0.2322, 0.104, 0.7634, 23.1873, 1.1637, '\"NeuroImage\"', 'NA', '\"data_set\"', 19.39, '\"M\"', '\"\"', 'NA', 'NA', 'NA', 'NA', 'NA', 1, 0, 'NA', 'NA', 'NA', '\"\"', '\"\"', '\"\"', 'NA', 'NA', 'NA', 'NA', 'NA', 'NA', 'NA', 'NA', 'NA', 'NA', 'NA', 'NA', 'NA', 'NA', 'NA', '\"pass\"', '\"open\"', '\"fail\"', '\"open\"', '\"\"', '\"\"', 'NA', 'NA', 'NA', 'NA', 'NA', 'NA', '\"pass\"', 'NA', 'NA', 'NA', 'NA', 'NA', 'NA', '\"yes\"', '\"deface front part of skull/brain\"'),\n",
        "        ('\"13\"', 27037, '\"rest_1\"', 0.0686, 0, 0.2619, 0.1121, 0.0, 21.8621, 1.5228, '\"NeuroImage\"', 'NA', '\"test_set\"', 17.74, '\"M\"', '\"R\"', '78', 'NA', 'NA', 'NA', '5', 0, 1, 'NA', 'NA', 'NA', '\"\"', '\"\"', '\"\"', 'NA', 'NA', 'NA', 'NA', 'NA', 'NA', 'NA', 'NA', 'NA', 'NA', 'NA', 'NA', 'NA', 'NA', 'NA', '\"pass\"', '\"\"', '\"\"', '\"\"', '\"\"', '\"\"', 'NA', 'NA', 'NA', 'NA', 'NA', 'NA', '\"pass\"', 'NA', 'NA', 'NA', 'NA', 'NA', 'NA', '\"\"', '\"\"'),\n",
        "        ('\"14\"', 8409791, '\"rest_1\"', 0.0567, 4, 0.238, 0.1068, 1.5267, 22.7119, 1.0041, '\"NeuroImage\"', 'NA', '\"data_set\"', 17.59, '\"M\"', '\"\"', 'NA', 'NA', 'NA', 'NA', 'NA', 1, 0, 'NA', 'NA', 'NA', '\"\"', '\"\"', '\"\"', 'NA', 'NA', 'NA', 'NA', 'NA', 'NA', 'NA', 'NA', 'NA', 'NA', 'NA', 'NA', 'NA', 'NA', 'NA', '\"pass\"', '\"\"', '\"\"', '\"\"', '\"\"', '\"\"', 'NA', 'NA', 'NA', 'NA', 'NA', 'NA', '\"pass\"', 'NA', 'NA', 'NA', 'NA', 'NA', 'NA', '\"yes\"', '\"\"'),\n",
        "        ('\"15\"', 27011, '\"rest_1\"', 0.1212, 1, 0.3482, 0.2302, 0.3817, 21.6233, 2.4654, '\"NeuroImage\"', 'NA', '\"test_set\"', 20.82, '\"M\"', '\"R\"', '128', 'NA', 'NA', 'NA', '5', 0, 1, 'NA', 'NA', 'NA', '\"\"', '\"\"', '\"\"', 'NA', 'NA', 'NA', 'NA', 'NA', 'NA', 'NA', 'NA', 'NA', 'NA', 'NA', 'NA', 'NA', 'NA', 'NA', '\"pass\"', '\"\"', '\"\"', '\"\"', '\"\"', '\"\"', 'NA', 'NA', 'NA', 'NA', 'NA', 'NA', '\"pass\"', 'NA', 'NA', 'NA', 'NA', 'NA', 'NA', '\"\"', '\"\"'),\n",
        "        ('\"16\"', 3007585, '\"rest_1\"', 0.0528, 0, 0.2298, 0.1094, 0.0, 25.124, 0.9446, '\"NeuroImage\"', 'NA', '\"data_set\"', 19.05, '\"M\"', '\"\"', 'NA', 'NA', 'NA', 'NA', 'NA', 1, 0, 'NA', 'NA', 'NA', '\"\"', '\"\"', '\"\"', 'NA', 'NA', 'NA', 'NA', 'NA', 'NA', 'NA', 'NA', 'NA', 'NA', 'NA', 'NA', 'NA', 'NA', 'NA', '\"pass\"', '\"\"', '\"\"', '\"\"', '\"\"', '\"\"', 'NA', 'NA', 'NA', 'NA', 'NA', 'NA', '\"pass\"', 'NA', 'NA', 'NA', 'NA', 'NA', 'NA', '\"\"', '\"\"'),\n",
        "        ('\"17\"', 8697774, '\"rest_1\"', 0.0527, 0, 0.2296, 0.08, 0.0, 2.0728, 1.1396, '\"NYU\"', 'NA', '\"data_set\"', 9.92, '\"M\"', '\"0.91\"', 'NA', '101', '97', '106', 'NA', 0, 1, '0', '1', '0', '\"\"', '\"specific phobia - dark\"', '\"pass\"', '60', '69', '83', '53', '46', '45', '42', '70', '75', '57', '71', '67', '79', '74', 'NA', '\"pass\"', '\"open\"', '\"pass\"', '\"open\"', '\"fail\"', '\"open\"', 'NA', 'NA', 'NA', 'NA', 'NA', 'NA', '\"pass\"', 'NA', 'NA', 'NA', 'NA', 'NA', 'NA', '\"\"', '\"\"'),\n",
        "        ('\"18\"', 9750701, '\"rest_1\"', 0.0654, 0, 0.2557, 0.1026, 0.0, 2.1544, 1.3514, '\"NYU\"', 'NA', '\"data_set\"', 10.74, '\"M\"', '\"0.91\"', 'NA', '113', '103', '121', 'NA', 1, 0, '0', '0', '0', '\"\"', '\"\"', '\"pass\"', '39', '40', '43', '45', '44', '45', '48', '41', '41', '41', '41', '40', '43', '40', 'NA', '\"pass\"', '\"open\"', '\"\"', '\"\"', '\"\"', '\"\"', 'NA', 'NA', 'NA', 'NA', 'NA', 'NA', '\"pass\"', 'NA', 'NA', 'NA', 'NA', 'NA', 'NA', '\"yes\"', '\"\"'),\n",
        "        ('\"19\"', 10064, '\"rest_1\"', 0.0623, 0, 0.2496, 0.0926, 0.0, 2.0866, 0.9943, '\"NYU\"', 'NA', '\"data_set\"', 15.9, '\"M\"', '\"0.76\"', 'NA', '101', '95', '107', '2', 0, 1, 'NA', 'NA', 'NA', '\"\"', '\"\"', '\"pass\"', 'NA', 'NA', 'NA', 'NA', 'NA', 'NA', 'NA', 'NA', 'NA', 'NA', 'NA', '81', '90', '81', 'NA', '\"pass\"', '\"closed\"', '\"\"', '\"\"', '\"\"', '\"\"', 'NA', 'NA', 'NA', 'NA', 'NA', 'NA', '\"pass\"', 'NA', 'NA', 'NA', 'NA', 'NA', 'NA', '\"\"', '\"\"'),\n",
        "        ('\"20\"', 21019, '\"rest_1\"', 0.0575, 0, 0.2398, 0.0955, 0.0, 2.0339, 1.1973, '\"NYU\"', 'NA', '\"test_set\"', 15.53, '\"M\"', '\"0.73\"', 'NA', '107', '112', '99', '2', 1, 0, '45', '43', 'NA', '\"\"', '\"\"', '\"\"', 'NA', 'NA', 'NA', 'NA', 'NA', 'NA', 'NA', 'NA', 'NA', 'NA', 'NA', 'NA', 'NA', 'NA', 'NA', '\"pass\"', '\"open\"', '\"pass\"', '\"open\"', '\"pass\"', '\"open\"', 'NA', 'NA', 'NA', 'NA', 'NA', 'NA', '\"pass\"', 'NA', 'NA', 'NA', 'NA', 'NA', 'NA', '\"yes\"', '\"\"'),\n",
        "        ('\"21\"', 10042, '\"rest_1\"', 0.0559, 0, 0.2365, 0.0922, 0.0, 2.2915, 1.0089, '\"NYU\"', 'NA', '\"data_set\"', 10.65, '\"M\"', '\"0.91\"', 'NA', '108', '100', '115', '2', 0, 1, 'NA', 'NA', 'NA', '\"\"', '\"\"', '\"\"', 'NA', 'NA', 'NA', 'NA', 'NA', 'NA', 'NA', 'NA', 'NA', 'NA', 'NA', '59', '56', '65', 'NA', '\"pass\"', '\"\"', '\"pass\"', '\"\"', '\"\"', '\"\"', 'NA', 'NA', 'NA', 'NA', 'NA', 'NA', '\"pass\"', 'NA', 'NA', 'NA', 'NA', 'NA', 'NA', '\"\"', '\"\"'),\n",
        "        ('\"22\"', 10128, '\"rest_1\"', 0.0689, 0, 0.2624, 0.1132, 0.0, 2.1422, 1.2641, '\"NYU\"', 'NA', '\"data_set\"', 9.53, '\"M\"', '\"0.82\"', 'NA', '127', '112', '136', '2', 1, 0, 'NA', 'NA', 'NA', '\"\"', '\"\"', '\"pass\"', 'NA', 'NA', 'NA', 'NA', 'NA', 'NA', 'NA', 'NA', 'NA', 'NA', 'NA', '58', '60', '56', 'NA', '\"pass\"', '\"\"', '\"\"', '\"\"', '\"\"', '\"\"', 'NA', 'NA', 'NA', 'NA', 'NA', 'NA', '\"pass\"', 'NA', 'NA', 'NA', 'NA', 'NA', 'NA', '\"\"', '\"\"'),\n",
        "        ('\"23\"', 2497695, '\"rest_1\"', 0.0482, 0, 0.2195, 0.0739, 0.0, 2.1269, 1.0257, '\"NYU\"', 'NA', '\"data_set\"', 11.61, '\"M\"', '\"0.6\"', 'NA', '116', '107', '123', 'NA', 0, 1, '0', '1', '0', '\"\"', '\"\"', '\"\"', '83', '76', '66', '47', '41', '45', '73', '82', '82', '88', '86', '80', '79', '82', 'NA', '\"pass\"', '\"\"', '\"\"', '\"\"', '\"\"', '\"\"', 'NA', 'NA', 'NA', 'NA', 'NA', 'NA', '\"pass\"', 'NA', 'NA', 'NA', 'NA', 'NA', 'NA', '\"yes\"', '\"\"'),\n",
        "        ('\"24\"', 4164316, '\"rest_1\"', 0.0774, 11, 0.2782, 0.1786, 6.2147, 2.247, 1.4483, '\"NYU\"', 'NA', '\"data_set\"', 10.69, '\"M\"', '\"0.29\"', 'NA', '80', '92', '72', 'NA', 1, 0, '0', '0', '0', '\"\"', '\"\"', '\"\"', '41', '41', '45', '45', '46', '45', '42', '42', '45', '41', '44', '40', '44', '41', 'NA', '\"pass\"', '\"\"', '\"\"', '\"\"', '\"\"', '\"\"', 'NA', 'NA', 'NA', 'NA', 'NA', 'NA', '\"pass\"', 'NA', 'NA', 'NA', 'NA', 'NA', 'NA', '\"yes\"', '\"\"'),\n",
        "        ('\"25\"', 1552181, '\"rest_1\"', 0.0408, 0, 0.2021, 0.0665, 0.0, 12.8089, 0.8528, '\"OHSU\"', 'NA', '\"data_set\"', 9.83, '\"F\"', '\"\"', 'NA', 'NA', 'NA', 'NA', 'NA', 0, 1, 'NA', 'NA', 'NA', '\"\"', '\"\"', '\"\"', 'NA', 'NA', 'NA', 'NA', 'NA', 'NA', 'NA', 'NA', 'NA', 'NA', 'NA', 'NA', 'NA', 'NA', 'NA', '\"pass\"', '\"\"', '\"\"', '\"\"', '\"\"', '\"\"', 'NA', 'NA', 'NA', 'NA', 'NA', 'NA', '\"pass\"', 'NA', 'NA', 'NA', 'NA', 'NA', 'NA', '\"\"', '\"\"'),\n",
        "        ('\"26\"', 4046678, '\"rest_1\"', 0.1139, 9, 0.3375, 0.2162, 11.3924, 16.4176, 2.7597, '\"OHSU\"', 'NA', '\"data_set\"', 8.58, '\"F\"', '\"\"', 'NA', 'NA', 'NA', 'NA', 'NA', 1, 0, 'NA', 'NA', 'NA', '\"\"', '\"\"', '\"\"', 'NA', 'NA', 'NA', 'NA', 'NA', 'NA', 'NA', 'NA', 'NA', 'NA', 'NA', 'NA', 'NA', 'NA', 'NA', '\"pass\"', '\"open\"', '\"fail\"', '\"open\"', '\"\"', '\"\"', 'NA', 'NA', 'NA', 'NA', 'NA', 'NA', '\"pass\"', 'NA', 'NA', 'NA', 'NA', 'NA', 'NA', '\"\"', '\"\"'),\n",
        "        ('\"27\"', 23012, '\"rest_1\"', 0.0569, 0, 0.2386, 0.1044, 0.0, 16.8908, 1.3229, '\"OHSU\"', 'NA', '\"test_set\"', 11.33, '\"F\"', '\"R\"', 'NA', '120', 'NA', 'NA', '2', 0, 1, 'NA', 'NA', 'NA', '\"\"', '\"\"', '\"\"', 'NA', 'NA', 'NA', 'NA', 'NA', 'NA', 'NA', 'NA', 'NA', 'NA', 'NA', 'NA', 'NA', 'NA', 'NA', '\"pass\"', '\"\"', '\"\"', '\"\"', '\"\"', '\"\"', 'NA', 'NA', 'NA', 'NA', 'NA', 'NA', '\"pass\"', 'NA', 'NA', 'NA', 'NA', 'NA', 'NA', '\"\"', '\"\"'),\n",
        "        ('\"28\"', 1679142, '\"rest_1\"', 0.1482, 0, 0.3849, 0.2947, 0.0, 18.4691, 2.2433, '\"OHSU\"', 'NA', '\"data_set\"', 11.33, '\"M\"', '\"\"', 'NA', 'NA', 'NA', 'NA', 'NA', 1, 0, 'NA', 'NA', 'NA', '\"\"', '\"\"', '\"\"', 'NA', 'NA', 'NA', 'NA', 'NA', 'NA', 'NA', 'NA', 'NA', 'NA', 'NA', 'NA', 'NA', 'NA', 'NA', '\"pass\"', '\"\"', '\"\"', '\"\"', '\"\"', '\"\"', 'NA', 'NA', 'NA', 'NA', 'NA', 'NA', '\"pass\"', 'NA', 'NA', 'NA', 'NA', 'NA', 'NA', '\"yes\"', '\"\"'),\n",
        "        ('\"29\"', 1206380, '\"rest_1\"', 0.0719, 1, 0.2681, 0.1294, 1.2658, 16.9621, 2.1269, '\"OHSU\"', 'NA', '\"data_set\"', 9.17, '\"M\"', '\"\"', 'NA', 'NA', 'NA', 'NA', 'NA', 0, 1, 'NA', 'NA', 'NA', '\"\"', '\"\"', '\"\"', 'NA', 'NA', 'NA', 'NA', 'NA', 'NA', 'NA', 'NA', 'NA', 'NA', 'NA', 'NA', 'NA', 'NA', 'NA', '\"pass\"', '\"open\"', '\"fail\"', '\"closed\"', '\"\"', '\"\"', 'NA', 'NA', 'NA', 'NA', 'NA', 'NA', '\"pass\"', 'NA', 'NA', 'NA', 'NA', 'NA', 'NA', '\"yes\"', '\"\"'),\n",
        "        ('\"30\"', 23008, '\"rest_1\"', 0.0801, 7, 0.2831, 0.171, 8.9744, 13.4263, 1.7741, '\"OHSU\"', 'NA', '\"test_set\"', 9.17, '\"M\"', '\"R\"', 'NA', '112', 'NA', 'NA', '2', 1, 0, 'NA', 'NA', 'NA', '\"\"', '\"\"', '\"\"', 'NA', 'NA', 'NA', 'NA', 'NA', 'NA', 'NA', 'NA', 'NA', 'NA', 'NA', 'NA', 'NA', 'NA', 'NA', '\"pass\"', '\"\"', '\"\"', '\"\"', '\"\"', '\"\"', 'NA', 'NA', 'NA', 'NA', 'NA', 'NA', '\"pass\"', 'NA', 'NA', 'NA', 'NA', 'NA', 'NA', '\"yes\"', '\"\"'),\n",
        "        ('\"31\"', 4016887, '\"rest_1\"', 0.0879, 3, 0.2965, 0.1516, 3.7975, 17.4466, 2.5734, '\"OHSU\"', 'NA', '\"data_set\"', 9.08, '\"M\"', '\"\"', 'NA', 'NA', 'NA', 'NA', 'NA', 0, 1, 'NA', 'NA', 'NA', '\"\"', '\"\"', '\"\"', 'NA', 'NA', 'NA', 'NA', 'NA', 'NA', 'NA', 'NA', 'NA', 'NA', 'NA', 'NA', 'NA', 'NA', 'NA', '\"pass\"', '\"\"', '\"\"', '\"\"', '\"\"', '\"\"', 'NA', 'NA', 'NA', 'NA', 'NA', 'NA', '\"pass\"', 'NA', 'NA', 'NA', 'NA', 'NA', 'NA', '\"\"', '\"\"'),\n",
        "        ('\"32\"', 1418396, '\"rest_1\"', 0.0713, 2, 0.267, 0.1471, 2.5316, 17.4328, 1.8083, '\"OHSU\"', 'NA', '\"data_set\"', 8.67, '\"M\"', '\"\"', 'NA', 'NA', 'NA', 'NA', 'NA', 1, 0, 'NA', 'NA', 'NA', '\"\"', '\"\"', '\"\"', 'NA', 'NA', 'NA', 'NA', 'NA', 'NA', 'NA', 'NA', 'NA', 'NA', 'NA', 'NA', 'NA', 'NA', 'NA', '\"pass\"', '\"\"', '\"\"', '\"\"', '\"\"', '\"\"', 'NA', 'NA', 'NA', 'NA', 'NA', 'NA', '\"pass\"', 'NA', 'NA', 'NA', 'NA', 'NA', 'NA', '\"\"', '\"\"'),\n",
        "        ('\"33\"', 2950754, '\"rest_1\"', 0.0523, 2, 0.2287, 0.0864, 0.8439, 20.3974, 1.1459, '\"Peking_2\"', 'NA', '\"data_set\"', 13.33, '\"M\"', '\"R\"', 'NA', '127', '137', '109', 'NA', 0, 1, '0', '1', '0', '\"ADHD-I\"', '\"\"', '\"\"', 'NA', 'NA', 'NA', 'NA', 'NA', 'NA', 'NA', 'NA', 'NA', 'NA', 'NA', 'NA', 'NA', 'NA', 'NA', '\"pass\"', '\"open\"', '\"\"', '\"\"', '\"\"', '\"\"', 'NA', 'NA', 'NA', 'NA', 'NA', 'NA', '\"pass\"', 'NA', 'NA', 'NA', 'NA', 'NA', 'NA', '\"yes\"', '\"\"'),\n",
        "        ('\"34\"', 3994098, '\"rest_1\"', 0.0547, 0, 0.234, 0.0993, 0.0, 21.5907, 1.32, '\"Peking_2\"', 'NA', '\"data_set\"', 12.75, '\"M\"', '\"R\"', 'NA', '115', '121', '104', 'NA', 1, 0, '0', '0', '0', '\"\"', '\"\"', '\"\"', 'NA', 'NA', 'NA', 'NA', 'NA', 'NA', 'NA', 'NA', 'NA', 'NA', 'NA', 'NA', 'NA', 'NA', 'NA', '\"pass\"', '\"open\"', '\"pass\"', '\"open\"', '\"pass\"', '\"open\"', 'NA', 'NA', 'NA', 'NA', 'NA', 'NA', '\"pass\"', 'NA', 'NA', 'NA', 'NA', 'NA', 'NA', '\"yes\"', '\"\"'),\n",
        "        ('\"35\"', 3520880, '\"rest_1\"', 0.0509, 0, 0.2255, 0.0743, 0.0, 17.8432, 1.3762, '\"Peking_1\"', 'NA', '\"test_set\"', 9.83, '\"M\"', '\"R\"', 'NA', '142', '140', '135', '3', 0, 1, '29', '25', 'NA', '\"\"', '\"\"', '\"\"', 'NA', 'NA', 'NA', 'NA', 'NA', 'NA', 'NA', 'NA', 'NA', 'NA', 'NA', 'NA', 'NA', 'NA', 'NA', '\"pass\"', '\"\"', '\"pass\"', '\"\"', '\"\"', '\"\"', 'NA', 'NA', 'NA', 'NA', 'NA', 'NA', '\"pass\"', 'NA', 'NA', 'NA', 'NA', 'NA', 'NA', '\"\"', '\"\"'),\n",
        "        ('\"36\"', 1517058, '\"rest_1\"', 0.0733, 0, 0.2708, 0.145, 0.0, 18.3401, 1.419, '\"Peking_1\"', 'NA', '\"test_set\"', 9.75, '\"M\"', '\"R\"', 'NA', '144', '141', '138', '3', 1, 0, '20', '16', 'NA', '\"\"', '\"\"', '\"\"', 'NA', 'NA', 'NA', 'NA', 'NA', 'NA', 'NA', 'NA', 'NA', 'NA', 'NA', 'NA', 'NA', 'NA', 'NA', '\"pass\"', '\"\"', '\"\"', '\"\"', '\"\"', '\"\"', 'NA', 'NA', 'NA', 'NA', 'NA', 'NA', '\"pass\"', 'NA', 'NA', 'NA', 'NA', 'NA', 'NA', '\"\"', '\"\"'),\n",
        "        ('\"37\"', 9744150, '\"rest_1\"', 0.0547, 0, 0.2338, 0.0966, 0.0, 19.1607, 1.4302, '\"Peking_1\"', 'NA', '\"test_set\"', 9.5, '\"M\"', '\"R\"', 'NA', '113', '117', '104', '3', 0, 1, '27', '23', 'NA', '\"\"', '\"\"', '\"\"', 'NA', 'NA', 'NA', 'NA', 'NA', 'NA', 'NA', 'NA', 'NA', 'NA', 'NA', 'NA', 'NA', 'NA', 'NA', '\"pass\"', '\"\"', '\"\"', '\"\"', '\"\"', '\"\"', 'NA', 'NA', 'NA', 'NA', 'NA', 'NA', '\"pass\"', 'NA', 'NA', 'NA', 'NA', 'NA', 'NA', '\"\"', '\"\"'),\n",
        "        ('\"38\"', 1562298, '\"rest_1\"', 0.0722, 2, 0.2686, 0.1246, 0.8439, 25.0944, 1.8281, '\"Peking_2\"', 'NA', '\"data_set\"', 9.58, '\"M\"', '\"R\"', 'NA', '113', '109', '115', 'NA', 1, 0, '0', '0', '0', '\"\"', '\"\"', '\"\"', 'NA', 'NA', 'NA', 'NA', 'NA', 'NA', 'NA', 'NA', 'NA', 'NA', 'NA', 'NA', 'NA', 'NA', 'NA', '\"pass\"', '\"\"', '\"\"', '\"\"', '\"\"', '\"\"', 'NA', 'NA', 'NA', 'NA', 'NA', 'NA', '\"pass\"', 'NA', 'NA', 'NA', 'NA', 'NA', 'NA', '\"\"', '\"\"'),\n",
        "        ('\"39\"', 3205761, '\"rest_1\"', 0.0679, 8, 0.2605, 0.1572, 3.3755, 23.8591, 1.3947, '\"Peking_2\"', 'NA', '\"data_set\"', 14.58, '\"M\"', '\"R\"', 'NA', '106', '126', '80', 'NA', 0, 1, '0', '1', '0', '\"ADHD-C;ODD\"', '\"ODD\"', '\"\"', 'NA', 'NA', 'NA', 'NA', 'NA', 'NA', 'NA', 'NA', 'NA', 'NA', 'NA', 'NA', 'NA', 'NA', 'NA', '\"pass\"', '\"\"', '\"pass\"', '\"\"', '\"\"', '\"\"', 'NA', 'NA', 'NA', 'NA', 'NA', 'NA', '\"pass\"', 'NA', 'NA', 'NA', 'NA', 'NA', 'NA', '\"\"', '\"\"'),\n",
        "        ('\"40\"', 3624598, '\"rest_1\"', 0.0653, 14, 0.2556, 0.1404, 5.9072, 8.28, 1.6411, '\"Peking_3\"', 'NA', '\"data_set\"', 14.58, '\"M\"', '\"R\"', 'NA', '135', 'NA', 'NA', 'NA', 1, 0, '0', '0', '0', '\"\"', '\"\"', '\"\"', 'NA', 'NA', 'NA', 'NA', 'NA', 'NA', 'NA', 'NA', 'NA', 'NA', 'NA', 'NA', 'NA', 'NA', 'NA', '\"pass\"', '\"\"', '\"\"', '\"\"', '\"\"', '\"\"', 'NA', 'NA', 'NA', 'NA', 'NA', 'NA', '\"pass\"', 'NA', 'NA', 'NA', 'NA', 'NA', 'NA', '\"\"', '\"\"')], \n",
        "       dtype=[('f0', 'S4'), ('Subject', '<i8'), ('RestScan', 'S8'), ('MeanFD', '<f8'), ('NumFD_greater_than_020', '<i8'), ('rootMeanSquareFD', '<f8'), ('FDquartiletop14thFD', '<f8'), ('PercentFD_greater_than_020', '<f8'), ('MeanDVARS', '<f8'), ('MeanFD_Jenkinson', '<f8'), ('site', 'S12'), ('sibling_id', 'S7'), ('data_set', 'S10'), ('age', '<f8'), ('sex', 'S3'), ('handedness', 'S6'), ('full_2_iq', 'S3'), ('full_4_iq', 'S3'), ('viq', 'S3'), ('piq', 'S3'), ('iq_measure', 'S2'), ('tdc', '<i8'), ('adhd', '<i8'), ('adhd_inattentive', 'S2'), ('adhd_combined', 'S2'), ('adhd_subthreshold', 'S2'), ('diagnosis_using_cdis', 'S12'), ('notes', 'S24'), ('sess_1_anat_2', 'S6'), ('oppositional', 'S2'), ('cog_inatt', 'S2'), ('hyperac', 'S2'), ('anxious_shy', 'S2'), ('perfectionism', 'S2'), ('social_problems', 'S2'), ('psychosomatic', 'S2'), ('conn_adhd', 'S2'), ('restless_impulsive', 'S2'), ('emot_lability', 'S2'), ('conn_gi_tot', 'S2'), ('dsm_iv_inatt', 'S2'), ('dsm_iv_h_i', 'S2'), ('dsm_iv_tot', 'S2'), ('study', 'S2'), ('sess_1_rest_1', 'S6'), ('sess_1_rest_1_eyes', 'S8'), ('sess_1_rest_2', 'S14'), ('sess_1_rest_2_eyes', 'S8'), ('sess_1_rest_3', 'S6'), ('sess_1_rest_3_eyes', 'S6'), ('sess_1_rest_4', 'S2'), ('sess_1_rest_4_eyes', 'S2'), ('sess_1_rest_5', 'S2'), ('sess_1_rest_5_eyes', 'S2'), ('sess_1_rest_6', 'S2'), ('sess_1_rest_6_eyes', 'S2'), ('sess_1_anat_1', 'S6'), ('sess_1_which_anat', 'S2'), ('sess_2_rest_1', 'S2'), ('sess_2_rest_1_eyes', 'S2'), ('sess_2_rest_2', 'S2'), ('sess_2_rest_2_eyes', 'S2'), ('sess_2_anat_1', 'S2'), ('defacing_ok', 'S5'), ('defacing_notes', 'S35')])}"
       ]
      }
     ],
     "prompt_number": 1
    },
    {
     "cell_type": "markdown",
     "metadata": {},
     "source": [
      "Each dataset downloading function returns a data object that contain data, or file names to the data.\n",
      "\n",
      "For instance, let us look at the Yeo 2011 atlas:"
     ]
    },
    {
     "cell_type": "code",
     "collapsed": false,
     "input": [
      "data = datasets.fetch_yeo_2011_atlas()\n",
      "print data.keys()"
     ],
     "language": "python",
     "metadata": {},
     "outputs": [
      {
       "output_type": "stream",
       "stream": "stdout",
       "text": [
        "['anat', 'liberal_17', 'colors_17', 'colors_7', 'tight_17', 'tight_7', 'liberal_7']\n"
       ]
      }
     ],
     "prompt_number": 2
    },
    {
     "cell_type": "markdown",
     "metadata": {},
     "source": [
      "Dataset downloading functions are detailed in the documentation of nilearn:\n",
      "http://nilearn.github.io/modules/reference.html#module-nilearn.datasets"
     ]
    },
    {
     "cell_type": "heading",
     "level": 1,
     "metadata": {},
     "source": [
      "Visualization"
     ]
    },
    {
     "cell_type": "markdown",
     "metadata": {},
     "source": [
      "nilearn.plotting provides simple functions to visualize images.\n",
      "\n",
      "**Excercise**: Read the corresponding documentation, and visualize the Yeo atlas"
     ]
    },
    {
     "cell_type": "code",
     "collapsed": false,
     "input": [],
     "language": "python",
     "metadata": {},
     "outputs": [],
     "prompt_number": 3
    },
    {
     "cell_type": "code",
     "collapsed": false,
     "input": [
      "# Solution\n",
      "%load visualize_yeo.py"
     ],
     "language": "python",
     "metadata": {},
     "outputs": [],
     "prompt_number": 4
    },
    {
     "cell_type": "markdown",
     "metadata": {},
     "source": [
      "**Excercise**: Visualize the 4th network in the RSN10 networks of the Smith 2009 data.\n",
      "\n",
      "**Hint**: you will have to use nibabel.load to breakdown the 4D image, access the data with get_data, and reconstruct a 3D image with the 4th network only before visualization."
     ]
    },
    {
     "cell_type": "code",
     "collapsed": false,
     "input": [],
     "language": "python",
     "metadata": {},
     "outputs": [],
     "prompt_number": 5
    },
    {
     "cell_type": "code",
     "collapsed": false,
     "input": [
      "# Solution\n",
      "%load visualize_smith_2009.py"
     ],
     "language": "python",
     "metadata": {},
     "outputs": [],
     "prompt_number": 6
    },
    {
     "cell_type": "heading",
     "level": 1,
     "metadata": {},
     "source": [
      "Simple computation on images"
     ]
    },
    {
     "cell_type": "markdown",
     "metadata": {},
     "source": [
      "**Computing mean of images**\n",
      "\n",
      "**Excercise** Compute and display the mean of the functional data for each of the 4 first subjects of the ADHD (1 mean imgs per subject, thus 4 images).\n",
      "\n",
      "**Hint**: Find in the reference documentation of nilearn the function to compute means. Also, fixing the choice of the cut coordinates in the plotting may be useful to compare images."
     ]
    },
    {
     "cell_type": "code",
     "collapsed": false,
     "input": [],
     "language": "python",
     "metadata": {},
     "outputs": [],
     "prompt_number": 7
    },
    {
     "cell_type": "code",
     "collapsed": false,
     "input": [
      "# Solution\n",
      "%load compute_mean_adhd.py"
     ],
     "language": "python",
     "metadata": {},
     "outputs": [],
     "prompt_number": 8
    },
    {
     "cell_type": "markdown",
     "metadata": {},
     "source": [
      "Why can this be useful? Can we use the `add_contour` method of the object returned by the plotting function to make this visualization more useful?"
     ]
    },
    {
     "cell_type": "markdown",
     "metadata": {},
     "source": [
      "**Excercise** For the first subject, plot the mean image with increasing smoothing, from 0mm (unsmoothed data) to 20mm by steps of 5mm.\n",
      "\n",
      "**Hint** Find the function to smooth images in the reference documentation."
     ]
    },
    {
     "cell_type": "code",
     "collapsed": false,
     "input": [],
     "language": "python",
     "metadata": {},
     "outputs": [],
     "prompt_number": 9
    },
    {
     "cell_type": "code",
     "collapsed": false,
     "input": [
      "# Solution\n",
      "%load smooth_adhd.py"
     ],
     "language": "python",
     "metadata": {},
     "outputs": [],
     "prompt_number": 10
    }
   ],
   "metadata": {}
  }
 ]
}